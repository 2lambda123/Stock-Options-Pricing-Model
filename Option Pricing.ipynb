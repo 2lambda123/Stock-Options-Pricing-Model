{
 "cells": [
  {
   "cell_type": "markdown",
   "metadata": {},
   "source": [
    "__<h2>Stock Option Pricing Model</h2>__"
   ]
  },
  {
   "cell_type": "markdown",
   "metadata": {},
   "source": [
    "__<h3>Options Notable Points</h3>__\n",
    "\n",
    "- Options gives the holder the right to exercise however,Unlike Forwards & Futures the holder is not obligated to exercise \n",
    "the right in exchage for a premium.\n",
    "- Options can be call option or put option. A call option gives the holder a right to buy the underlying at a predetermined \n",
    "strike price however, the holder is not obligated to do so. A put option gives the holder the right to sell the underlying at a predetermined \n",
    "strike price however, the holder is not obligated to do so.\n",
    "- Options can be American or European. An American option can be exercised at any time upto the date of exerpiration. However, a \n",
    "European option can be exerceised only at the date of Expiration/Maturity.\n",
    "- There can be four positions in European Options:-\n",
    "    - A Long position(i.e., has bought the option) in Call Option\n",
    "    - A Short position (i.e., has sold or written the option) in Call Option\n",
    "    - A Long position in Put Option\n",
    "    - A Short position in Put Option\n",
    "- Payoff from the four Positions - If K is the strike price and St is the price of underlying stock at the time of maturity.\n",
    "    - Payoff of Long position in Call Option - max(St-K,0)\n",
    "    - Payoff of Short position in Call Option - min(K-St,0)\n",
    "    - Payoff of Long position in Put Option - max(K-St,0)\n",
    "    - Payoff of Short position in Put Option - min(St-K,0)\n",
    "- Underlying Securities in most of Options are Stocks(traded on Chicago Board Options Exchange(CBOE) & New York Stock Exchange(NYSE)), Foriengn Currency (traded on NASDAQ OMX), Index (S&P 500 Index (SPX), the S&P 100 Index (OEX), the Nasdaq-100 Index (NDX), and the Dow Jones Industrial Index (DJX) traded on CBOE), Futures. "
   ]
  },
  {
   "cell_type": "markdown",
   "metadata": {},
   "source": [
    "__<h3>Terminology</h3>__\n",
    "- __Expiration Date__ - A January Call trading on IBM is a call option on IBM with expiration in january more precisely the third Saturday of January. The last day on which such an option traded is the third friday of january. Stock Options are traded in January, Febraury, or March Cycle. January cycle consists of months of January,April,July and October. \n",
    "\n",
    "- __Strike Prices__ - Exchage normally chooses the strike price at which option can be written. Generally, 2.5 USD(for stock price between 5 USD to 25 USD),5 USD(for stock price between 25 USD to 200 USD) and 10 USD(for stock price above 200 USD). If the stock price goes outside the lowest or highest limit of stock price exchange usually introduce an option with new stock price.\n",
    "\n",
    "- A call option is called __in money call option__ if St>K, __at the money__ if St=K & __out of money__ if St<K. Similarly, for a put options.\n",
    "\n",
    "- __Dividend & Stock Split__ - Over the counter options were dividend protected i.e. on ex-dividend date the strike price for stock is reduced by the amount of dividend. however, exchange traded options are not dividend adjusted. Exchange traded options are stock split adjusted. For example, All else being equal, the 3-for-1 stock split should cause the stock price to go down to one-third of its previous value.\n",
    "\n",
    "- __Position Limit & Exercise Limit__- Position Limit specifies the maximum number of option contracts that an investor can hold on one side of market. Long call & Short Put are considered as one side of the market. Exercise Limit is generally equal to the Position Limit and specifies the maximum number of contracts that any individual can exercise in a period of a five consecutive business days. \n",
    "\n",
    "- __Margin Call__ -  an investor can borrow up to 50% of the price from the broker. This is known as buying on margin. If the share price declines so that the loan is substantially more than 50% of the stock’s current value, there is a ‘‘margin call’’, where the broker requests that cash be deposited by the investor. If the margin call is not met, the broker sells the stock. "
   ]
  },
  {
   "cell_type": "markdown",
   "metadata": {},
   "source": [
    "__<h3>Properties of Stock Options</h3>__"
   ]
  },
  {
   "attachments": {
    "image.png": {
     "image/png": "[encoded data removed]"
    }
   },
   "cell_type": "markdown",
   "metadata": {},
   "source": [
    "__Stocastic Process__ - Any variable whose value changes over time in an uncertain way is said to follow a stochastic process. Stochastic processes can be classiﬁed as discrete time or continuous time<br></br>\n",
    "\n",
    "__Markov Process__ - A Markov process is a particular type of stochastic process where only the current value of a variable is relevant for predicting the future. Stock prices are usually assumed to follow a Markov process. The Markov property implies that the probability distribution of the price at any particular future time is not dependent on the particular path followed by the price in the past.<br></br>\n",
    "\n",
    "__Wiener Process__ -  It is a particular type of Markov stochastic process with a mean change of zero and a variance rate of 1.0 per year.It has following properties:-<br></br>\n",
    "- __Property 1__  :  The change delta(z) during a small period of time delta(t) is z = epsilon x delta(t) where epsilon has standard normal distribution.<br></br>\n",
    "- __Property 2__. The values of delta(z) for any two diﬀerent short intervals of time, delta(t), are independent.<br></br>\n",
    "\n",
    "__Generalised Weiner Process__ - The mean change per unit time for a stochastic process is known as drift rate and variance per unit time is known as variance rate. The basic Wiener process, dz, that has been developed so far has a drift rate of zero and a variance rate of 1.0. The drift rate of zero means that the expected value of z at any future time is equal to its current value. The variance rate of 1.0 means that the variance of the change in z in a time interval of length T equals T.A generalized Wiener process for a variable x can be deﬁned in terms of dz as dx = adt + bdz \n",
    "The adt term implies that x has an expected drift rate of a per unit of time. The bdz term on the right-hand can be regarded as adding noise or variability to the path followed by x. <br></br>\n",
    "\n",
    "__ITO's Lemma__ - The price of a stock option is a function of underlying stock price and time. IN a generalized form we can say that the price of a derivative is a function of stochastic variable undelying price and time. if x is a variable following ITO's process dx = a(x,t)dt + b(x,t)dz where dz is weiner process and a & b are functions of x and t. ITO's lemma shows that a function G of x and t follows a process:-<br></br>\n",
    "\n",
    "![image.png](attachment:image.png)\n",
    "where coefficient of dt is drift rate and coefficient of dz is variance rate.<br></br>\n",
    "\n",
    "__Log Normal Property of Stock Prices__ - It assumes that the percentage change in the stock price in a very short interval of time are normally distributed. The mean and standard deviation of return in time delta(t) is mu x delta(t) and sigma x sq. root(delta(t)) <br></br>"
   ]
  },
  {
   "attachments": {
    "image.png": {
     "image/png": "[encoded data removed]"
    }
   },
   "cell_type": "markdown",
   "metadata": {},
   "source": [
    "__<h3>Black Sholes Merton Model</h3>__\n",
    "- It uses capital asset pricing model market's required return on an option and required return on a stock. It involves setting up a riskless portfolio of an option and an underlying stock and arguing that the return on the portfolio over a short period of time should be riskless return.\n",
    "![image.png](attachment:image.png)\n",
    "N($d2$) - It is the probability that a call option will be exercised in a risk nuetral world.The strike price is only paid if the stock price is greater than K and as just mentioned this has a probability of N($d2$). The expression $S_{o}$N($d1$)$e^{rT}$ is the expected stock price at time T in a risk-neutral world when stock prices less than the strike price are counted as zero. The payoff of European call option in risk neutral world discounted to present time is given by:- <br></br>\n",
    "__<center>c = $S_{o}$N($d1$) - K$e^{-rT}$N($d2$)</center>__\n",
    "- __Assumptions__\n",
    "    - No dividends are paid during the option's life\n",
    "    - Market movements cannot be predicted\n",
    "    - The risk-free rate and volatility are constant\n",
    "    - Follows a lognormal distribution"
   ]
  },
  {
   "cell_type": "code",
   "execution_count": 20,
   "metadata": {},
   "outputs": [],
   "source": [
    "import numpy as np\n",
    "import scipy.stats as si\n",
    "import matplotlib.pyplot as plt"
   ]
  },
  {
   "cell_type": "code",
   "execution_count": 25,
   "metadata": {},
   "outputs": [],
   "source": [
    "def euro_vanilla_call(S,K,r,T,sigma):\n",
    "    d1 = (np.log(S/K) + (r+ ((sigma**2)*0.5))*T)/(sigma*(np.sqrt(T)))\n",
    "    d2 = d1-(sigma*(np.sqrt(T)))\n",
    "    price = S*(si.norm.cdf(d1,0.0,1.0)) - (K*(np.exp(-r*T))*(si.norm.cdf(d2,0.0,1.0)))\n",
    "    return price"
   ]
  },
  {
   "cell_type": "code",
   "execution_count": 26,
   "metadata": {},
   "outputs": [
    {
     "name": "stdout",
     "output_type": "stream",
     "text": [
      "2.0554035196872664e-31\n"
     ]
    }
   ],
   "source": [
    "print(euro_vanilla_call(50, 100, 1, 0.05, 0.25))"
   ]
  },
  {
   "cell_type": "code",
   "execution_count": 18,
   "metadata": {},
   "outputs": [],
   "source": [
    "def euro_vanilla_put(S,K,r,T,sigma):\n",
    "    d1 = (np.log(S/K) + (r+ ((sigma**2)*0.5))*T)/(sigma*(np.sqrt(T)))\n",
    "    d2 = d1-(sigma*(np.sqrt(T)))\n",
    "    price = (K*(np.exp(-r*T))*(si.norm.cdf(-d2,0.0,1.0))) - S*(si.norm.cdf(-d1,0.0,1.0)) \n",
    "    return price"
   ]
  },
  {
   "cell_type": "code",
   "execution_count": 19,
   "metadata": {},
   "outputs": [
    {
     "name": "stdout",
     "output_type": "stream",
     "text": [
      "45.122942450071406\n"
     ]
    }
   ],
   "source": [
    "print(euro_vanilla_put(50, 100, 1, 0.05, 0.25))"
   ]
  },
  {
   "cell_type": "markdown",
   "metadata": {},
   "source": [
    "__<h3>Black Sholes Merton Model For Dividend Paying Stock</h3>__\n",
    "Black Sholes Merton Model for dividend paying stock is essentially the same as the non dividend paying stock however, a parameter q is added to take into account the dividend."
   ]
  },
  {
   "attachments": {
    "image.png": {
     "image/png": "[encoded data removed]"
    }
   },
   "cell_type": "markdown",
   "metadata": {},
   "source": [
    "![image.png](attachment:image.png)"
   ]
  },
  {
   "cell_type": "markdown",
   "metadata": {},
   "source": [
    "- S is the spot price at time t.\n",
    "- T is the maturity of the option.Therefore, T-t is the time to maturity.\n",
    "- K is the strike price\n",
    "- r is the risk-free interest rate, assumed to be constant between t and T\n",
    "- σ volatility of underlying asset, the standard deviation of the asset returns\n",
    "- q the dividend rate of the asset. This is assumed to pay dividends at a continuous rate"
   ]
  },
  {
   "attachments": {
    "image.png": {
     "image/png": "[encoded data removed]"
    }
   },
   "cell_type": "markdown",
   "metadata": {},
   "source": [
    "![image.png](attachment:image.png)"
   ]
  },
  {
   "cell_type": "code",
   "execution_count": 28,
   "metadata": {},
   "outputs": [],
   "source": [
    "def euro_vanilla_call_incl_div(S,K,r,q,T,sigma):\n",
    "    d1 = (np.log(S/K) + (r+ ((sigma**2)*0.5))*T)/(sigma*(np.sqrt(T)))\n",
    "    d2 = d1-(sigma*(np.sqrt(T)))\n",
    "    price = S*(si.norm.cdf(d1,0.0,1.0))*(np.exp(-q*(T))) - (K*(np.exp(-r*T))*(si.norm.cdf(d2,0.0,1.0)))\n",
    "    return price"
   ]
  },
  {
   "cell_type": "code",
   "execution_count": 30,
   "metadata": {},
   "outputs": [
    {
     "name": "stdout",
     "output_type": "stream",
     "text": [
      "9.810012172049619e-32\n"
     ]
    }
   ],
   "source": [
    "print(euro_vanilla_call_incl_div(50, 100, 1,0.05, 0.05, 0.25))"
   ]
  },
  {
   "cell_type": "code",
   "execution_count": 35,
   "metadata": {},
   "outputs": [],
   "source": [
    "def euro_vanilla_put_incl_div(S,K,r,q,T,sigma):\n",
    "    d1 = (np.log(S/K) + (r+ ((sigma**2)*0.5))*T)/(sigma*(np.sqrt(T)))\n",
    "    d2 = d1-(sigma*(np.sqrt(T)))\n",
    "    price = (K*(np.exp(-r*T))*(si.norm.cdf(-d2,0.0,1.0))) - S*(si.norm.cdf(-d1,0.0,1.0))*(np.exp(-q*(T)))\n",
    "    return price"
   ]
  },
  {
   "cell_type": "code",
   "execution_count": 36,
   "metadata": {},
   "outputs": [
    {
     "name": "stdout",
     "output_type": "stream",
     "text": [
      "45.2477863301984\n"
     ]
    }
   ],
   "source": [
    "print(euro_vanilla_put_incl_div(50, 100, 1,0.05, 0.05, 0.25))"
   ]
  },
  {
   "cell_type": "markdown",
   "metadata": {},
   "source": [
    "__<h3>Binomial Tree Model</h3>__"
   ]
  },
  {
   "cell_type": "markdown",
   "metadata": {},
   "source": []
  },
  {
   "cell_type": "code",
   "execution_count": null,
   "metadata": {},
   "outputs": [],
   "source": []
  }
 ],
 "metadata": {
  "kernelspec": {
   "display_name": "Python 3",
   "language": "python",
   "name": "python3"
  },
  "language_info": {
   "codemirror_mode": {
    "name": "ipython",
    "version": 3
   },
   "file_extension": ".py",
   "mimetype": "text/x-python",
   "name": "python",
   "nbconvert_exporter": "python",
   "pygments_lexer": "ipython3",
   "version": "3.7.3"
  }
 },
 "nbformat": 4,
 "nbformat_minor": 2
}
